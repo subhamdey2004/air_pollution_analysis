{
 "cells": [
  {
   "cell_type": "code",
   "execution_count": null,
   "id": "04540d9a",
   "metadata": {},
   "outputs": [],
   "source": [
    "import pandas as pd\n",
    "import numpy as np\n",
    "import matplotlib.pyplot as plt\n",
    "import seaborn as sns"
   ]
  },
  {
   "cell_type": "code",
   "execution_count": null,
   "id": "120b9ba3",
   "metadata": {},
   "outputs": [],
   "source": [
    "df = pd.read_csv('../data/processed/air_quality_cleaned.csv')"
   ]
  },
  {
   "cell_type": "code",
   "execution_count": null,
   "id": "2eeaf493",
   "metadata": {},
   "outputs": [
    {
     "name": "stdout",
     "output_type": "stream",
     "text": [
      "        City        date  PM2.5  PM10    NO2    NOx  NH3     CO    SO2  \\\n",
      "0  Ahmedabad  2015-01-01    NaN   NaN  18.22  17.15  NaN   0.92  27.64   \n",
      "1  Ahmedabad  2015-01-02    NaN   NaN  15.69  16.46  NaN   0.97  24.55   \n",
      "2  Ahmedabad  2015-01-03    NaN   NaN  19.30  29.70  NaN  17.40  29.07   \n",
      "3  Ahmedabad  2015-01-04    NaN   NaN  18.48  17.97  NaN   1.70  18.59   \n",
      "4  Ahmedabad  2015-01-05    NaN   NaN  21.42  37.76  NaN  22.10  39.33   \n",
      "\n",
      "       O3  Benzene  Toluene  Xylene  AQI  \n",
      "0  133.36     0.00     0.02    0.00  NaN  \n",
      "1   34.06     3.68     5.50    3.77  NaN  \n",
      "2   30.70     6.80    16.40    2.25  NaN  \n",
      "3   36.08     4.43    10.14    1.00  NaN  \n",
      "4   39.31     7.01    18.89    2.78  NaN  \n",
      "<class 'pandas.core.frame.DataFrame'>\n",
      "RangeIndex: 29531 entries, 0 to 29530\n",
      "Data columns (total 14 columns):\n",
      " #   Column   Non-Null Count  Dtype  \n",
      "---  ------   --------------  -----  \n",
      " 0   City     29531 non-null  object \n",
      " 1   date     29531 non-null  object \n",
      " 2   PM2.5    29504 non-null  float64\n",
      " 3   PM10     27937 non-null  float64\n",
      " 4   NO2      29531 non-null  float64\n",
      " 5   NOx      29531 non-null  float64\n",
      " 6   NH3      27522 non-null  float64\n",
      " 7   CO       29531 non-null  float64\n",
      " 8   SO2      29531 non-null  float64\n",
      " 9   O3       29531 non-null  float64\n",
      " 10  Benzene  29531 non-null  float64\n",
      " 11  Toluene  29531 non-null  float64\n",
      " 12  Xylene   29531 non-null  float64\n",
      " 13  AQI      29503 non-null  float64\n",
      "dtypes: float64(12), object(2)\n",
      "memory usage: 3.2+ MB\n",
      "None\n",
      "              PM2.5          PM10           NO2           NOx           NH3  \\\n",
      "count  29504.000000  27937.000000  29531.000000  29531.000000  27522.000000   \n",
      "mean      66.130899     95.070437     26.909513     32.611069     22.359410   \n",
      "std       64.130750     86.577554     23.671982     33.829601     26.695912   \n",
      "min        0.040000      0.010000      0.010000      0.000000      0.010000   \n",
      "25%       29.160000     31.580000     11.630000     13.180000      7.820000   \n",
      "50%       46.850000     72.380000     19.720000     21.980000     13.395000   \n",
      "75%       78.652500    122.290000     35.030000     38.660000     25.500000   \n",
      "max      949.990000   1000.000000    362.210000    467.630000    352.890000   \n",
      "\n",
      "                 CO           SO2            O3       Benzene       Toluene  \\\n",
      "count  29531.000000  29531.000000  29531.000000  29531.000000  29531.000000   \n",
      "mean       2.292734     15.650236     34.130603      3.130408      7.027591   \n",
      "std        6.824266     20.583528     21.631257     15.988058     17.841550   \n",
      "min        0.000000      0.010000      0.010000      0.000000      0.000000   \n",
      "25%        0.500000      5.740000     18.860000      0.050000      0.280000   \n",
      "50%        0.910000      8.950000     31.480000      0.670000      1.720000   \n",
      "75%        1.490000     15.840000     44.215000      2.750000      6.710000   \n",
      "max      175.810000    193.860000    257.730000    455.030000    454.850000   \n",
      "\n",
      "             Xylene           AQI  \n",
      "count  29531.000000  29503.000000  \n",
      "mean       2.864628    162.865268  \n",
      "std        5.383474    138.545194  \n",
      "min        0.000000     13.000000  \n",
      "25%        0.180000     76.000000  \n",
      "50%        1.250000    113.000000  \n",
      "75%        2.695000    205.000000  \n",
      "max      170.370000   2049.000000  \n"
     ]
    }
   ],
   "source": [
    "print(df.head())\n",
    "print(df.info())\n",
    "print(df.describe())"
   ]
  },
  {
   "cell_type": "code",
   "execution_count": null,
   "id": "5f27038f",
   "metadata": {},
   "outputs": [],
   "source": [
    "df = df.dropna(subset=['PM2.5'])"
   ]
  },
  {
   "cell_type": "code",
   "execution_count": null,
   "id": "758d5193",
   "metadata": {},
   "outputs": [],
   "source": [
    "num_cols = df.select_dtypes(include=['float64','int64']).columns\n",
    "df[num_cols] = df[num_cols].fillna(df[num_cols].median())"
   ]
  },
  {
   "cell_type": "code",
   "execution_count": null,
   "id": "2347c06f",
   "metadata": {},
   "outputs": [],
   "source": [
    "cat_cols = df.select_dtypes(include=['object']).columns\n",
    "df[cat_cols] = df[cat_cols].fillna(df[cat_cols].mode().iloc[0])"
   ]
  },
  {
   "cell_type": "code",
   "execution_count": null,
   "id": "69f4fd23",
   "metadata": {},
   "outputs": [
    {
     "name": "stdout",
     "output_type": "stream",
     "text": [
      "Data shape after removing duplicates: (29504, 14)\n"
     ]
    }
   ],
   "source": [
    "df = df.drop_duplicates()\n",
    "print(f\"Data shape after removing duplicates: {df.shape}\")"
   ]
  },
  {
   "cell_type": "code",
   "execution_count": null,
   "id": "87390c09",
   "metadata": {},
   "outputs": [],
   "source": [
    "for col in num_cols:\n",
    "    Q1 = df[col].quantile(0.25)\n",
    "    Q3 = df[col].quantile(0.75)\n",
    "    IQR = Q3 - Q1\n",
    "    lower_bound = Q1 - 1.5*IQR\n",
    "    upper_bound = Q3 + 1.5*IQR\n",
    "    df = df[(df[col] >= lower_bound) & (df[col] <= upper_bound)]"
   ]
  },
  {
   "cell_type": "code",
   "execution_count": null,
   "id": "891d0249",
   "metadata": {},
   "outputs": [],
   "source": [
    "df = pd.get_dummies(df, drop_first=True)"
   ]
  },
  {
   "cell_type": "code",
   "execution_count": null,
   "id": "25969ab1",
   "metadata": {},
   "outputs": [],
   "source": [
    "df = df.reset_index(drop=True)"
   ]
  },
  {
   "cell_type": "code",
   "execution_count": null,
   "id": "903d83c5",
   "metadata": {},
   "outputs": [],
   "source": [
    "df.to_csv('../data/processed/air_quality_cleaned.csv' , index=False)"
   ]
  },
  {
   "cell_type": "code",
   "execution_count": null,
   "id": "4810af28",
   "metadata": {},
   "outputs": [
    {
     "data": {
      "image/png": "[encoded data removed]",
      "text/plain": [
       "<Figure size 1000x600 with 1 Axes>"
      ]
     },
     "metadata": {},
     "output_type": "display_data"
    }
   ],
   "source": [
    "plt.figure(figsize=(10,6))\n",
    "sns.boxplot(data=df[num_cols])\n",
    "plt.title('Boxplot after cleaning')\n",
    "plt.show()"
   ]
  },
  {
   "cell_type": "code",
   "execution_count": null,
   "id": "16d35a80",
   "metadata": {},
   "outputs": [
    {
     "name": "stdout",
     "output_type": "stream",
     "text": [
      "Data cleaning completed. Cleaned data saved as 'cleaned_air_data.csv'\n"
     ]
    }
   ],
   "source": [
    "print(\"Data cleaning completed. Cleaned data saved as 'cleaned_air_data.csv'\")"
   ]
  }
 ],
 "metadata": {
  "kernelspec": {
   "display_name": ".venv",
   "language": "python",
   "name": "python3"
  },
  "language_info": {
   "codemirror_mode": {
    "name": "ipython",
    "version": 3
   },
   "file_extension": ".py",
   "mimetype": "text/x-python",
   "name": "python",
   "nbconvert_exporter": "python",
   "pygments_lexer": "ipython3",
   "version": "3.13.7"
  }
 },
 "nbformat": 4,
 "nbformat_minor": 5
}
