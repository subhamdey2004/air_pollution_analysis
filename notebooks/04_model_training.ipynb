{
 "cells": [
  {
   "cell_type": "code",
   "execution_count": 23,
   "id": "64daf34f",
   "metadata": {},
   "outputs": [],
   "source": [
    "import pandas as pd\n",
    "import numpy as np\n",
    "from sklearn.model_selection import train_test_split, GridSearchCV\n",
    "from sklearn.preprocessing import StandardScaler\n",
    "from sklearn.ensemble import RandomForestRegressor\n",
    "from sklearn.linear_model import LinearRegression\n",
    "from sklearn.metrics import mean_squared_error, r2_score\n",
    "import joblib"
   ]
  },
  {
   "cell_type": "code",
   "execution_count": 25,
   "id": "3daf1983",
   "metadata": {},
   "outputs": [
    {
     "name": "stdout",
     "output_type": "stream",
     "text": [
      "Data loaded successfully!\n",
      "   PM2.5   PM10   NO2   NOx     NH3    CO    SO2     O3  Benzene  Toluene  \\\n",
      "0  65.37  72.38  8.07  8.57  13.395  0.64  16.31   8.02     1.63     4.34   \n",
      "1  56.28  72.38  8.02  8.51  13.395  0.60  18.93   6.20     1.52     3.74   \n",
      "2  48.17  72.38  8.00  8.55  13.395  0.65  18.99   7.97     1.23     4.74   \n",
      "3  33.56  72.38  7.89  8.56  13.395  0.72  11.28  10.18     0.61     3.85   \n",
      "4  31.30  72.38  8.10  8.49  13.395  0.55  10.29   7.44     0.52     2.31   \n",
      "\n",
      "   ...  date_2020-06-22  date_2020-06-23  date_2020-06-24  date_2020-06-25  \\\n",
      "0  ...            False            False            False            False   \n",
      "1  ...            False            False            False            False   \n",
      "2  ...            False            False            False            False   \n",
      "3  ...            False            False            False            False   \n",
      "4  ...            False            False            False            False   \n",
      "\n",
      "   date_2020-06-26  date_2020-06-27  date_2020-06-28  date_2020-06-29  \\\n",
      "0            False            False            False            False   \n",
      "1            False            False            False            False   \n",
      "2            False            False            False            False   \n",
      "3            False            False            False            False   \n",
      "4            False            False            False            False   \n",
      "\n",
      "   date_2020-06-30  date_2020-07-01  \n",
      "0            False            False  \n",
      "1            False            False  \n",
      "2            False            False  \n",
      "3            False            False  \n",
      "4            False            False  \n",
      "\n",
      "[5 rows x 1966 columns]\n"
     ]
    }
   ],
   "source": [
    "df = pd.read_csv('../data/processed/air_quality_cleaned.csv')\n",
    "print(\"Data loaded successfully!\")\n",
    "print(df.head())"
   ]
  },
  {
   "cell_type": "code",
   "execution_count": 26,
   "id": "dfba534e",
   "metadata": {},
   "outputs": [],
   "source": [
    "X = df.drop(['PM2.5', 'Date'], axis=1, errors='ignore')  # drop target & date\n",
    "y = df['PM2.5']"
   ]
  },
  {
   "cell_type": "code",
   "execution_count": 27,
   "id": "640cabb0",
   "metadata": {},
   "outputs": [
    {
     "name": "stdout",
     "output_type": "stream",
     "text": [
      "Train size: (8740, 1965), Test size: (2186, 1965)\n"
     ]
    }
   ],
   "source": [
    "X_train, X_test, y_train, y_test = train_test_split(\n",
    "    X, y, test_size=0.2, random_state=42\n",
    ")\n",
    "print(f\"Train size: {X_train.shape}, Test size: {X_test.shape}\")"
   ]
  },
  {
   "cell_type": "code",
   "execution_count": 28,
   "id": "daa2d3bc",
   "metadata": {},
   "outputs": [],
   "source": [
    "scaler = StandardScaler()\n",
    "X_train_scaled = scaler.fit_transform(X_train)\n",
    "X_test_scaled = scaler.transform(X_test)"
   ]
  },
  {
   "cell_type": "code",
   "execution_count": 42,
   "id": "600a973f",
   "metadata": {},
   "outputs": [
    {
     "data": {
      "text/plain": [
       "['../models/scaler.pkl']"
      ]
     },
     "execution_count": 42,
     "metadata": {},
     "output_type": "execute_result"
    }
   ],
   "source": [
    "joblib.dump(scaler, '../models/scaler.pkl')"
   ]
  },
  {
   "cell_type": "code",
   "execution_count": 31,
   "id": "a9ee5915",
   "metadata": {},
   "outputs": [
    {
     "name": "stdout",
     "output_type": "stream",
     "text": [
      "Linear Regression MSE: 183.80, R2: 0.62\n"
     ]
    }
   ],
   "source": [
    "lr = LinearRegression()\n",
    "lr.fit(X_train_scaled, y_train)\n",
    "y_pred_lr = lr.predict(X_test_scaled)\n",
    "\n",
    "# Metrics\n",
    "mse_lr = mean_squared_error(y_test, y_pred_lr)\n",
    "r2_lr = r2_score(y_test, y_pred_lr)\n",
    "print(f\"Linear Regression MSE: {mse_lr:.2f}, R2: {r2_lr:.2f}\")\n",
    "\n",
    "# --- 6b. Random Forest Regressor ---\n",
    "rf = RandomForestRegressor(n_estimators=100, random_state=42)\n",
    "rf.fit(X_train, y_train)  # RF doesn’t need scaling\n",
    "y_pred_rf = rf.predict(X_test)\n",
    "\n",
    "# Metrics\n",
    "mse_rf = mean_squared_error(y_test, y_pred_rf)\n",
    "r2_rf = r2_score(y_test, y_pred_rf)"
   ]
  },
  {
   "cell_type": "code",
   "execution_count": 43,
   "id": "281001af",
   "metadata": {},
   "outputs": [
    {
     "name": "stdout",
     "output_type": "stream",
     "text": [
      "Model saved as 'pollution_model.pkl'\n"
     ]
    }
   ],
   "source": [
    "joblib.dump(rf, '../models/pollution_model.pkl')\n",
    "print(\"Model saved as 'pollution_model.pkl'\")"
   ]
  },
  {
   "cell_type": "code",
   "execution_count": 39,
   "id": "bf93a9be",
   "metadata": {},
   "outputs": [],
   "source": [
    "import matplotlib.pyplot as plt\n",
    "import seaborn as sns"
   ]
  },
  {
   "cell_type": "code",
   "execution_count": 40,
   "id": "f34cd0bb",
   "metadata": {},
   "outputs": [],
   "source": [
    "\n",
    "feat_importances = pd.Series(rf.feature_importances_, index=X.columns)\n",
    "feat_importances = feat_importances.sort_values(ascending=False)"
   ]
  },
  {
   "cell_type": "code",
   "execution_count": 44,
   "id": "be58ecd6",
   "metadata": {},
   "outputs": [
    {
     "data": {
      "image/png": "[encoded data removed]",
      "text/plain": [
       "<Figure size 1000x600 with 1 Axes>"
      ]
     },
     "metadata": {},
     "output_type": "display_data"
    }
   ],
   "source": [
    "plt.figure(figsize=(10,6))\n",
    "sns.barplot(x=feat_importances, y=feat_importances.index)\n",
    "plt.title(\"Feature Importance (Random Forest)\")\n",
    "plt.show()"
   ]
  },
  {
   "cell_type": "code",
   "execution_count": null,
   "id": "b1ba9286",
   "metadata": {},
   "outputs": [],
   "source": []
  }
 ],
 "metadata": {
  "kernelspec": {
   "display_name": ".venv",
   "language": "python",
   "name": "python3"
  },
  "language_info": {
   "codemirror_mode": {
    "name": "ipython",
    "version": 3
   },
   "file_extension": ".py",
   "mimetype": "text/x-python",
   "name": "python",
   "nbconvert_exporter": "python",
   "pygments_lexer": "ipython3",
   "version": "3.13.7"
  }
 },
 "nbformat": 4,
 "nbformat_minor": 5
}
